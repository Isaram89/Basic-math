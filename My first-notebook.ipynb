{
 "cells": [
  {
   "cell_type": "code",
   "execution_count": 6,
   "id": "4fd37964-02d6-4fea-b598-635507d4aedc",
   "metadata": {},
   "outputs": [],
   "source": [
    "from numbers import Number\n",
    "def add(a:Number, b:Number)->Number:return a+b"
   ]
  },
  {
   "cell_type": "code",
   "execution_count": 7,
   "id": "11fa5d50-8873-4e37-bb8d-c20379cf8ead",
   "metadata": {},
   "outputs": [],
   "source": [
    "import ipytest\n",
    "ipytest.autoconfig()"
   ]
  },
  {
   "cell_type": "code",
   "execution_count": 8,
   "id": "48e1a40a-2427-4a19-aa04-c6635228725a",
   "metadata": {},
   "outputs": [],
   "source": [
    "def test_add_simple():\n",
    "    assert add(1,2)==3"
   ]
  },
  {
   "cell_type": "code",
   "execution_count": 9,
   "id": "f0a2e654-4a12-4e68-8dc1-bb7c513d5ca4",
   "metadata": {},
   "outputs": [
    {
     "name": "stdout",
     "output_type": "stream",
     "text": [
      "\u001b[1m======================================= test session starts =======================================\u001b[0m\n",
      "platform win32 -- Python 3.11.10, pytest-8.3.3, pluggy-1.5.0 -- C:\\Users\\im2040\\.conda\\envs\\bw25\\python.exe\n",
      "cachedir: .pytest_cache\n",
      "rootdir: C:\\github\\Basic-math\n",
      "plugins: anyio-4.6.2.post1\n",
      "\u001b[1mcollecting ... \u001b[0mcollected 1 item\n",
      "\n",
      "t_48440e521b3b454290c5695d26601a3b.py::test_add_simple \u001b[32mPASSED\u001b[0m\u001b[32m                                [100%]\u001b[0m\n",
      "\n",
      "\u001b[32m======================================== \u001b[32m\u001b[1m1 passed\u001b[0m\u001b[32m in 0.03s\u001b[0m\u001b[32m ========================================\u001b[0m\n"
     ]
    },
    {
     "data": {
      "text/plain": [
       "<ExitCode.OK: 0>"
      ]
     },
     "execution_count": 9,
     "metadata": {},
     "output_type": "execute_result"
    }
   ],
   "source": [
    "ipytest.run('-vv')"
   ]
  },
  {
   "cell_type": "code",
   "execution_count": 14,
   "id": "d6f4201e-db09-40af-8f58-0a3888322ddf",
   "metadata": {},
   "outputs": [
    {
     "ename": "TypeError",
     "evalue": "unsupported operand type(s) for +: 'int' and 'str'",
     "output_type": "error",
     "traceback": [
      "\u001b[1;31m---------------------------------------------------------------------------\u001b[0m",
      "\u001b[1;31mTypeError\u001b[0m                                 Traceback (most recent call last)",
      "Cell \u001b[1;32mIn[14], line 1\u001b[0m\n\u001b[1;32m----> 1\u001b[0m \u001b[43madd\u001b[49m\u001b[43m(\u001b[49m\u001b[38;5;241;43m1\u001b[39;49m\u001b[43m,\u001b[49m\u001b[43m \u001b[49m\u001b[38;5;124;43m\"\u001b[39;49m\u001b[38;5;124;43mtree\u001b[39;49m\u001b[38;5;124;43m\"\u001b[39;49m\u001b[43m)\u001b[49m\n",
      "Cell \u001b[1;32mIn[6], line 2\u001b[0m, in \u001b[0;36madd\u001b[1;34m(a, b)\u001b[0m\n\u001b[1;32m----> 2\u001b[0m \u001b[38;5;28;01mdef\u001b[39;00m \u001b[38;5;21madd\u001b[39m(a:Number, b:Number)\u001b[38;5;241m-\u001b[39m\u001b[38;5;241m>\u001b[39mNumber:\u001b[38;5;28;01mreturn\u001b[39;00m \u001b[43ma\u001b[49m\u001b[38;5;241;43m+\u001b[39;49m\u001b[43mb\u001b[49m\n",
      "\u001b[1;31mTypeError\u001b[0m: unsupported operand type(s) for +: 'int' and 'str'"
     ]
    }
   ],
   "source": [
    "add(1, \"tree\")"
   ]
  },
  {
   "cell_type": "code",
   "execution_count": 12,
   "id": "e024db60-a444-4b2a-a06b-eaa71af7d56e",
   "metadata": {},
   "outputs": [],
   "source": [
    "def test_raise_error():\n",
    "    with pytest.raises(Tyerror): \n",
    "        add(1, \"tree\")\n",
    "    "
   ]
  },
  {
   "cell_type": "code",
   "execution_count": 15,
   "id": "12d3ab33-cd9b-42b4-8008-1f6e7cf7b4bf",
   "metadata": {},
   "outputs": [
    {
     "name": "stdout",
     "output_type": "stream",
     "text": [
      "\u001b[1m======================================= test session starts =======================================\u001b[0m\n",
      "platform win32 -- Python 3.11.10, pytest-8.3.3, pluggy-1.5.0 -- C:\\Users\\im2040\\.conda\\envs\\bw25\\python.exe\n",
      "cachedir: .pytest_cache\n",
      "rootdir: C:\\github\\Basic-math\n",
      "plugins: anyio-4.6.2.post1\n",
      "\u001b[1mcollecting ... \u001b[0mcollected 2 items\n",
      "\n",
      "t_48440e521b3b454290c5695d26601a3b.py::test_add_simple \u001b[32mPASSED\u001b[0m\u001b[32m                                [ 50%]\u001b[0m\n",
      "t_48440e521b3b454290c5695d26601a3b.py::test_raise_error \u001b[31mFAILED\u001b[0m\u001b[31m                               [100%]\u001b[0m\n",
      "\n",
      "============================================ FAILURES =============================================\n",
      "\u001b[31m\u001b[1m________________________________________ test_raise_error _________________________________________\u001b[0m\n",
      "\n",
      "    \u001b[0m\u001b[94mdef\u001b[39;49;00m \u001b[92mtest_raise_error\u001b[39;49;00m():\u001b[90m\u001b[39;49;00m\n",
      ">       \u001b[94mwith\u001b[39;49;00m pytest.raises(Tyerror):\u001b[90m\u001b[39;49;00m\n",
      "\u001b[1m\u001b[31mE       NameError: name 'pytest' is not defined\u001b[0m\n",
      "\n",
      "\u001b[1m\u001b[31mC:\\Users\\im2040\\AppData\\Local\\Temp\\ipykernel_14456\\1797896316.py\u001b[0m:2: NameError\n",
      "\u001b[36m\u001b[1m===================================== short test summary info =====================================\u001b[0m\n",
      "\u001b[31mFAILED\u001b[0m t_48440e521b3b454290c5695d26601a3b.py::\u001b[1mtest_raise_error\u001b[0m - NameError: name 'pytest' is not defined\n",
      "\u001b[31m=================================== \u001b[31m\u001b[1m1 failed\u001b[0m, \u001b[32m1 passed\u001b[0m\u001b[31m in 0.05s\u001b[0m\u001b[31m ===================================\u001b[0m\n"
     ]
    },
    {
     "data": {
      "text/plain": [
       "<ExitCode.TESTS_FAILED: 1>"
      ]
     },
     "execution_count": 15,
     "metadata": {},
     "output_type": "execute_result"
    }
   ],
   "source": [
    "ipytest.run('-vv')"
   ]
  },
  {
   "cell_type": "code",
   "execution_count": 24,
   "id": "c43aa304-e631-4604-b21f-c83ee784b521",
   "metadata": {},
   "outputs": [
    {
     "name": "stdout",
     "output_type": "stream",
     "text": [
      "0\n",
      "1\n",
      "2\n",
      "3\n",
      "4\n",
      "5\n",
      "6\n",
      "7\n",
      "8\n",
      "9\n"
     ]
    }
   ],
   "source": [
    "for i in range (10):\n",
    "    print(i)\n"
   ]
  },
  {
   "cell_type": "code",
   "execution_count": 31,
   "id": "3a441987-d977-4474-8fc8-7e159fdb2270",
   "metadata": {},
   "outputs": [
    {
     "ename": "SyntaxError",
     "evalue": "did you forget parentheses around the comprehension target? (2940786565.py, line 1)",
     "output_type": "error",
     "traceback": [
      "\u001b[1;36m  Cell \u001b[1;32mIn[31], line 1\u001b[1;36m\u001b[0m\n\u001b[1;33m    my_list = [i, 10,i+10 for i in range (10)]\u001b[0m\n\u001b[1;37m               ^\u001b[0m\n\u001b[1;31mSyntaxError\u001b[0m\u001b[1;31m:\u001b[0m did you forget parentheses around the comprehension target?\n"
     ]
    }
   ],
   "source": [
    "my_list = [i, 10,i+10 for i in range (10)] \n",
    "@pytest.mark.parametrize(\"a,b,c\", my_list)\n",
    "def test_many_additions(a,b,c):\n",
    "    assert add(a,b) == C"
   ]
  },
  {
   "cell_type": "code",
   "execution_count": 28,
   "id": "d391160b-b2dc-4203-ae89-fbacf5076c2d",
   "metadata": {},
   "outputs": [
    {
     "ename": "NameError",
     "evalue": "name 'run' is not defined",
     "output_type": "error",
     "traceback": [
      "\u001b[1;31m---------------------------------------------------------------------------\u001b[0m",
      "\u001b[1;31mNameError\u001b[0m                                 Traceback (most recent call last)",
      "Cell \u001b[1;32mIn[28], line 1\u001b[0m\n\u001b[1;32m----> 1\u001b[0m ipytest,\u001b[43mrun\u001b[49m(\u001b[38;5;124m'\u001b[39m\u001b[38;5;124m-vv\u001b[39m\u001b[38;5;124m'\u001b[39m)\n",
      "\u001b[1;31mNameError\u001b[0m: name 'run' is not defined"
     ]
    }
   ],
   "source": [
    "ipytest,run('-vv')"
   ]
  },
  {
   "cell_type": "code",
   "execution_count": null,
   "id": "7611c497-8dbf-4623-83ef-41297d4ae613",
   "metadata": {},
   "outputs": [],
   "source": []
  }
 ],
 "metadata": {
  "kernelspec": {
   "display_name": "Python 3 (ipykernel)",
   "language": "python",
   "name": "python3"
  },
  "language_info": {
   "codemirror_mode": {
    "name": "ipython",
    "version": 3
   },
   "file_extension": ".py",
   "mimetype": "text/x-python",
   "name": "python",
   "nbconvert_exporter": "python",
   "pygments_lexer": "ipython3",
   "version": "3.11.10"
  }
 },
 "nbformat": 4,
 "nbformat_minor": 5
}
